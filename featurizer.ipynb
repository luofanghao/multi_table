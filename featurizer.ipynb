{
 "cells": [
  {
   "cell_type": "code",
   "execution_count": 63,
   "metadata": {},
   "outputs": [
    {
     "name": "stdout",
     "output_type": "stream",
     "text": [
      "The autoreload extension is already loaded. To reload it, use:\n",
      "  %reload_ext autoreload\n"
     ]
    }
   ],
   "source": [
    "%load_ext autoreload\n",
    "%autoreload 2\n",
    "\n",
    "import pandas as pd\n",
    "from os import listdir\n",
    "import sys\n",
    "import re"
   ]
  },
  {
   "cell_type": "code",
   "execution_count": 110,
   "metadata": {},
   "outputs": [],
   "source": [
    "#================= config here =================\n",
    "# database website: https://relational.fit.cvut.cz/dataset/Financial\n",
    "data_path = \"../test_data/financial/\"\n",
    "sys.path.append(data_path)\n",
    "master_table_name = \"loan.csv_account_id\"\n",
    "#================= \n",
    "table_names = listdir(data_path)\n",
    "tables = {} #key:table name; value: table in Pandas.Dataframe\n",
    "for each in table_names:\n",
    "    tables[each] = pd.read_csv(data_path+each)\n",
    "\n",
    "groud_truth_foreignKey = set([(\"loan.csv_account_id\", \"account.csv_account_id\")\n",
    "                  , (\"order.csv_account_id\", \"account.csv_account_id\")\n",
    "                  , (\"trans.csv_account_id\", \"account.csv_account_id\")\n",
    "                  , (\"disp.csv_account_id\", \"account.csv_account_id\")\n",
    "                  , (\"card.csv_disp_id\", \"disp.csv_disp_id\")\n",
    "                  , (\"disp.csv_client_id\", \"clinet.csv_client_id\")\n",
    "                  , (\"account.csv_district_id\", \"district.csv_district_id\")\n",
    "                  , (\"clinet.csv_district_id\", \"district.csv_district_id\")\n",
    "                  ])"
   ]
  },
  {
   "cell_type": "code",
   "execution_count": 145,
   "metadata": {},
   "outputs": [],
   "source": [
    "#======global vars============\n",
    "# groud_truth_foreignKey\n",
    "# tables\n",
    "visited = set() # set of table names, store the tables that already in the queue (to be processed)\n",
    "delimiter = \".csv_\"\n",
    "\n",
    "def get_names(tableCol):\n",
    "    \"\"\"\n",
    "    Input:\n",
    "        String: eg. `loan.csv_account_id`\n",
    "    Output:\n",
    "        tuple of String: eg. (`loan.csv`, `account_id`)\n",
    "    \"\"\"\n",
    "    split = re.split(delimiter, tableCol)\n",
    "    table_name = split[0] + delimiter[:-1]\n",
    "    column_name = split[1]\n",
    "    return table_name, column_name\n",
    "\n",
    "\n",
    "def forward(curt_table):\n",
    "    \"\"\"\n",
    "    Input:\n",
    "        curt_table: String, name of table. eg. `loan.csv_account_id`\n",
    "    Output:\n",
    "        result: Pandas.DataFrame, big featurized table (join)\n",
    "    \"\"\"\n",
    "    table_name, key_column_name = get_names(curt_table)\n",
    "    k_tables = get_forward_tables(table_name)\n",
    "    result = tables[table_name]\n",
    "    \n",
    "    for table in k_tables:\n",
    "        foreign_table_name = re.split(delimiter, table)[0] + delimiter[:-1]\n",
    "        table = backward(table)\n",
    "        print(key_column_name) # name of primary-foreign key \n",
    "        result = result.join(table.set_index(key_column_name), on=key_column_name, lsuffix=\"_\"+table_name, rsuffix=\"_\"+foreign_table_name)\n",
    "\n",
    "    return result\n",
    "\n",
    "\n",
    "def backward(curt_table):\n",
    "    \"\"\"\n",
    "    Input:\n",
    "        curt_table: String, name of table. eg. `account.csv_account_id`\n",
    "    Output:\n",
    "        result: Pandas.DataFrame, big featurized table (join of groupby count)\n",
    "    \"\"\"\n",
    "    table_name, column_name = get_names(curt_table)\n",
    "    k_tables = get_backward_tables(table_name)\n",
    "    result = tables[table_name]\n",
    "    \n",
    "    for table in k_tables:\n",
    "        # aggregated result of : groupby + count()\n",
    "        table_name, column_name = get_names(table)\n",
    "        table = tables[table_name]\n",
    "        r = table.groupby(column_name).count()\n",
    "        r = r.rename(columns = lambda x : table_name+\"_\"+x)\n",
    "        \n",
    "        result = result.join(r, on=column_name)\n",
    "        \n",
    "    return result\n",
    "        \n",
    "def get_forward_tables(table_name):\n",
    "    \"\"\"\n",
    "    Output:\n",
    "        list of String, String is the second element in `groud_truth_foreignKey` tuples (Primary key)\n",
    "    \"\"\"\n",
    "    result = list()\n",
    "    for relation in groud_truth_foreignKey:\n",
    "        if (table_name in relation[0]):\n",
    "            result.append(relation[1])\n",
    "            visited.add(relation[0])\n",
    "    return result\n",
    "\n",
    "def get_backward_tables(table_name):\n",
    "    \"\"\"\n",
    "    Output:\n",
    "        list of String, String is the first element in `groud_truth_foreignKey` tuples (Primary key)\n",
    "    \"\"\"\n",
    "    result = list()\n",
    "#     print (visited)\n",
    "    for relation in groud_truth_foreignKey:\n",
    "        if (table_name in relation[1] and (relation[0] not in visited)):\n",
    "            result.append(relation[0])\n",
    "#             visited.add(relation[0])\n",
    "    return result"
   ]
  },
  {
   "cell_type": "code",
   "execution_count": 148,
   "metadata": {},
   "outputs": [
    {
     "name": "stdout",
     "output_type": "stream",
     "text": [
      "account_id\n"
     ]
    }
   ],
   "source": [
    "big_table = forward(master_table_name)\n",
    "big_table.to_csv(\"featureized_finacial.csv\", index=False)"
   ]
  },
  {
   "cell_type": "code",
   "execution_count": 149,
   "metadata": {},
   "outputs": [
    {
     "data": {
      "text/plain": [
       "Index([u'loan_id', u'account_id', u'date_loan.csv', u'amount', u'duration',\n",
       "       u'payments', u'status', u'district_id', u'frequency',\n",
       "       u'date_account.csv', u'order.csv_order_id', u'order.csv_bank_to',\n",
       "       u'order.csv_account_to', u'order.csv_amount', u'order.csv_k_symbol',\n",
       "       u'disp.csv_disp_id', u'disp.csv_client_id', u'disp.csv_type',\n",
       "       u'trans.csv_trans_id', u'trans.csv_date', u'trans.csv_type',\n",
       "       u'trans.csv_operation', u'trans.csv_amount', u'trans.csv_balance',\n",
       "       u'trans.csv_k_symbol', u'trans.csv_bank', u'trans.csv_account'],\n",
       "      dtype='object')"
      ]
     },
     "execution_count": 149,
     "metadata": {},
     "output_type": "execute_result"
    }
   ],
   "source": [
    "big_table.keys()"
   ]
  },
  {
   "cell_type": "code",
   "execution_count": null,
   "metadata": {
    "collapsed": true
   },
   "outputs": [],
   "source": []
  }
 ],
 "metadata": {
  "kernelspec": {
   "display_name": "Python 2",
   "language": "python",
   "name": "python2"
  },
  "language_info": {
   "codemirror_mode": {
    "name": "ipython",
    "version": 2
   },
   "file_extension": ".py",
   "mimetype": "text/x-python",
   "name": "python",
   "nbconvert_exporter": "python",
   "pygments_lexer": "ipython2",
   "version": "2.7.13"
  }
 },
 "nbformat": 4,
 "nbformat_minor": 2
}
