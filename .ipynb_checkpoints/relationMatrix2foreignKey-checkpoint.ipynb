{
 "cells": [
  {
   "cell_type": "code",
   "execution_count": 2,
   "metadata": {
    "collapsed": true
   },
   "outputs": [],
   "source": [
    "%load_ext autoreload\n",
    "%autoreload 2\n",
    "\n",
    "import pandas as pd\n",
    "from os import listdir\n",
    "from relation_matrix_all import process"
   ]
  },
  {
   "cell_type": "markdown",
   "metadata": {},
   "source": [
    "## mutagenesis data"
   ]
  },
  {
   "cell_type": "code",
   "execution_count": 6,
   "metadata": {},
   "outputs": [],
   "source": [
    "relation_matrix = pd.read_csv(\"mutagenesis_relationMatrix.csv\", index_col=\"index\")\n",
    "relation_matrix\n",
    "#================= config here =================\n",
    "\"\"\"\n",
    "I constructed the ground_truth following the rules:\n",
    "    1. the arrows in dataset website: non-master table -> master table\n",
    "    2. treat master_col as prime key (should contains no nan values, no duplicates)\n",
    "\"\"\"\n",
    "\n",
    "# set of (col_x, col_y), foreign key relations\n",
    "# means: col_x is the foreign key in table a, col_y is the primary key in table b.\n",
    "# col_x ---> col_y\n",
    "\n",
    "\n",
    "groud_truth = set([ (\"ATOM.CSV_molecule_id\", \"MOLECULE.CSV_molecule_id\")\n",
    "                  , (\"BOND.CSV_atom1_id\", \"ATOM.CSV_atom_id\")\n",
    "                  , (\"BOND.CSV_atom2_id\", \"ATOM.CSV_atom_id\")\n",
    "                  ])"
   ]
  },
  {
   "cell_type": "code",
   "execution_count": 7,
   "metadata": {},
   "outputs": [
    {
     "name": "stdout",
     "output_type": "stream",
     "text": [
      "found matched col pairs: (master column (x) <== non-master column (y)) \n",
      "\n",
      "MOLECULE.CSV_molecule_id <== ATOM.CSV_molecule_id : 1.0\n"
     ]
    }
   ],
   "source": [
    "# relation matrix ===> master-foreign relationships\n",
    "import re\n",
    "data_path = \"../test_data/mutagenesis/\"\n",
    "\n",
    "index = relation_matrix.keys()\n",
    "relation_matrix = relation_matrix.fillna(0)\n",
    "threshold = 0.2\n",
    "\n",
    "result = set()\n",
    "print (\"found matched col pairs: (foreign key ==> primary key \\n\")\n",
    "for master_col_name in index:\n",
    "    for other_col_name in index:\n",
    "        val = relation_matrix[master_col_name][other_col_name]\n",
    "        if (val > threshold):\n",
    "            # one hard-coded rule appied here: master_col should contains no nan values, no duplicates\n",
    "            split = re.split(\".CSV_\", master_col_name)\n",
    "            filename = split[0].lower() + \".csv\"\n",
    "            data = pd.read_csv(data_path + filename)\n",
    "            if (data[split[1]].duplicated().any() > 0 or data[split[1]].isnull().any()):\n",
    "                break\n",
    "                \n",
    "            result.add((master_col_name,other_col_name))\n",
    "            print (\"{} <== {} : {}\".format(master_col_name,other_col_name, val))\n"
   ]
  },
  {
   "cell_type": "code",
   "execution_count": 17,
   "metadata": {},
   "outputs": [
    {
     "name": "stdout",
     "output_type": "stream",
     "text": [
      "precision is： 1.0, recall is: 0.3333333333333333\n"
     ]
    }
   ],
   "source": [
    "intersection = result.intersection(groud_truth)\n",
    "precision = len(intersection)/float(len(result))\n",
    "recall = len(intersection)/float(len(groud_truth))\n",
    "print (\"precision is： {}, recall is: {}\".format(precision, recall))"
   ]
  },
  {
   "cell_type": "markdown",
   "metadata": {},
   "source": [
    "## finacial data"
   ]
  },
  {
   "cell_type": "code",
   "execution_count": null,
   "metadata": {
    "collapsed": true
   },
   "outputs": [],
   "source": [
    "relation_matrix = pd.read_csv(\"financial_relationMatrix.csv\", index_col=\"index\")\n",
    "relation_matrix\n",
    "\n",
    "#================= config here =================\n",
    "\"\"\"\n",
    "I constructed the ground_truth following the rules:\n",
    "    1. the arrows in dataset website: non-master table -> master table\n",
    "    2. treat master_col as prime key (should contains no nan values, no duplicates)\n",
    "\"\"\"\n",
    "\n",
    "# set of (master_col, non-master col)\n",
    "groud_truth = set([(\"ACCOUNT.CSV_account_id\", \"LOAN.CSV_account_id\")\n",
    "                  , (\"ACCOUNT.CSV_account_id\", \"ORDER.CSV_account_id\")\n",
    "                  , (\"ACCOUNT.CSV_account_id\", \"TRANS.CSV_account_id\")\n",
    "                  , (\"ACCOUNT.CSV_account_id\", \"DISP.CSV_account_id\")\n",
    "                  , (\"DISP.CSV_disp_id\", \"CARD.CSV_disp_id\")\n",
    "                  , (\"CLIENT.CSV_client_id\", \"DISP.CSV_client_id\")\n",
    "                  , (\"DISRTICT.CSV_district_id\", \"ACCOUNT.CSV_district_id\")\n",
    "                  , (\"DISRTICT.CSV_district_id\", \"CLIENT.CSV_district_id\")\n",
    "                  ])"
   ]
  }
 ],
 "metadata": {
  "kernelspec": {
   "display_name": "Python 2",
   "language": "python",
   "name": "python2"
  },
  "language_info": {
   "codemirror_mode": {
    "name": "ipython",
    "version": 2
   },
   "file_extension": ".py",
   "mimetype": "text/x-python",
   "name": "python",
   "nbconvert_exporter": "python",
   "pygments_lexer": "ipython2",
   "version": "2.7.13"
  }
 },
 "nbformat": 4,
 "nbformat_minor": 2
}
